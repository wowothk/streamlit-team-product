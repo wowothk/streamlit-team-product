{
 "metadata": {
  "language_info": {
   "codemirror_mode": {
    "name": "ipython",
    "version": 3
   },
   "file_extension": ".py",
   "mimetype": "text/x-python",
   "name": "python",
   "nbconvert_exporter": "python",
   "pygments_lexer": "ipython3",
   "version": "3.8.5-final"
  },
  "orig_nbformat": 2,
  "kernelspec": {
   "name": "python3",
   "display_name": "Python 3.8.5 64-bit",
   "metadata": {
    "interpreter": {
     "hash": "31f2aee4e71d21fbe5cf8b01ff0e069b9275f58929596ceb00d14d90e3e16cd6"
    }
   }
  }
 },
 "nbformat": 4,
 "nbformat_minor": 2,
 "cells": [
  {
   "cell_type": "code",
   "execution_count": 60,
   "metadata": {},
   "outputs": [],
   "source": [
    "import pandas as pd\n",
    "from pyecharts import options as opts\n",
    "from pyecharts.charts import Bar\n",
    "from streamlit_echarts import st_pyecharts\n",
    "df = pd.read_csv(\"progress01.csv\")\n",
    "\n",
    "def _set_completion(df):\n",
    "    df.loc[df[\"status\"] == \"Done\", \"Completion\"] = 100\n",
    "    df.loc[(df[\"status\"] == \"Break\")|(df[\"status\"] == \"To Do\"), \"Completion\"] = 0\n",
    "    df.loc[df[\"status\"] == \"On Progress\", \"Completion\"] = 50\n",
    "\n",
    "def _task_completion(df, task):\n",
    "    df = df[df[\"task\"] == task]\n",
    "    completion = df[\"Completion\"].iloc[-1]\n",
    "    return completion\n",
    "\n",
    "def _planning_completion(df, planning):\n",
    "    df = df[df[\"planning\"] == planning]\n",
    "    done_date = df[\"datetime_report\"].iloc[-1]\n",
    "    compl = []\n",
    "    for i in df[\"task\"].unique():\n",
    "        compl.append(_task_completion(df, i))\n",
    "\n",
    "    completion = sum(compl)/df[\"task_score\"].iloc[-1]\n",
    "    timedelta = done_date - df[\"end_date\"].iloc[-1]\n",
    "    if completion == 100:\n",
    "        if timedelta.days > 0:\n",
    "            status_completion = \"Overdue\"\n",
    "        elif timedelta.days < 0:\n",
    "            status_completion = \"In Time\"\n",
    "        else:\n",
    "            status_completion = \"On Time\"\n",
    "    else:\n",
    "        status_completion = \"On Progress\"\n",
    "\n",
    "    ret = {\n",
    "        \"name\": df[\"nama\"].iloc[-1], \n",
    "        \"planning\": planning, \n",
    "        \"completion\": completion, \n",
    "        \"status_completion\": status_completion, \n",
    "        \"report_date\": done_date\n",
    "    }\n",
    "    return ret\n",
    "\n",
    "def planning_summary(df):\n",
    "    plans = df[\"planning\"].unique()\n",
    "    summary = []\n",
    "    for i in plans:\n",
    "        summary.append(_planning_completion(df, i))\n",
    "    \n",
    "    ret = pd.DataFrame(summary)\n",
    "    return ret\n",
    "\n",
    "def bar_status_completion(planning_summary):\n",
    "    df = planning_summary[planning_summary[\"status_completion\"] != \"On Progress\"]\n",
    "    counting = df[\"status_completion\"].value_counts()\n",
    "    xaxis = counting.index.tolist()\n",
    "    yaxis = counting.tolist()\n",
    "    # bar = Bar(\"Status Completion\")\n",
    "    # bar.add(\"\")"
   ]
  },
  {
   "cell_type": "code",
   "execution_count": 47,
   "metadata": {},
   "outputs": [
    {
     "output_type": "execute_result",
     "data": {
      "text/plain": [
       "   nama                        planning  task_score start_date   end_date  \\\n",
       "0  Frey  Membuat Halaman Usermanagement           2 2021-03-15 2021-03-23   \n",
       "1  Frey  Membuat Halaman Usermanagement           2 2021-03-15 2021-03-23   \n",
       "2  Frey  Membuat Halaman Usermanagement           2 2021-03-15 2021-03-23   \n",
       "3  Frey  Membuat Halaman Usermanagement           2 2021-03-15 2021-03-23   \n",
       "4  Frey  Membuat Halaman Usermanagement           2 2021-03-15 2021-03-23   \n",
       "\n",
       "  datetime_report              task       status  \\\n",
       "0      2021-03-15           slicing         Done   \n",
       "1      2021-03-17  implementasi api  On Progress   \n",
       "2      2021-03-19  implementasi api  On Progress   \n",
       "3      2021-03-21  implementasi api        Break   \n",
       "4      2021-03-23  implementasi api         Done   \n",
       "\n",
       "                                    kendala  keterangan  Completion  \n",
       "0  format yang berbeda dengan yang database         NaN       100.0  \n",
       "1  format yang berbeda dengan yang database         NaN        50.0  \n",
       "2  format yang berbeda dengan yang database         NaN        50.0  \n",
       "3  format yang berbeda dengan yang database         NaN         0.0  \n",
       "4  format yang berbeda dengan yang database         NaN       100.0  "
      ],
      "text/html": "<div>\n<style scoped>\n    .dataframe tbody tr th:only-of-type {\n        vertical-align: middle;\n    }\n\n    .dataframe tbody tr th {\n        vertical-align: top;\n    }\n\n    .dataframe thead th {\n        text-align: right;\n    }\n</style>\n<table border=\"1\" class=\"dataframe\">\n  <thead>\n    <tr style=\"text-align: right;\">\n      <th></th>\n      <th>nama</th>\n      <th>planning</th>\n      <th>task_score</th>\n      <th>start_date</th>\n      <th>end_date</th>\n      <th>datetime_report</th>\n      <th>task</th>\n      <th>status</th>\n      <th>kendala</th>\n      <th>keterangan</th>\n      <th>Completion</th>\n    </tr>\n  </thead>\n  <tbody>\n    <tr>\n      <th>0</th>\n      <td>Frey</td>\n      <td>Membuat Halaman Usermanagement</td>\n      <td>2</td>\n      <td>2021-03-15</td>\n      <td>2021-03-23</td>\n      <td>2021-03-15</td>\n      <td>slicing</td>\n      <td>Done</td>\n      <td>format yang berbeda dengan yang database</td>\n      <td>NaN</td>\n      <td>100.0</td>\n    </tr>\n    <tr>\n      <th>1</th>\n      <td>Frey</td>\n      <td>Membuat Halaman Usermanagement</td>\n      <td>2</td>\n      <td>2021-03-15</td>\n      <td>2021-03-23</td>\n      <td>2021-03-17</td>\n      <td>implementasi api</td>\n      <td>On Progress</td>\n      <td>format yang berbeda dengan yang database</td>\n      <td>NaN</td>\n      <td>50.0</td>\n    </tr>\n    <tr>\n      <th>2</th>\n      <td>Frey</td>\n      <td>Membuat Halaman Usermanagement</td>\n      <td>2</td>\n      <td>2021-03-15</td>\n      <td>2021-03-23</td>\n      <td>2021-03-19</td>\n      <td>implementasi api</td>\n      <td>On Progress</td>\n      <td>format yang berbeda dengan yang database</td>\n      <td>NaN</td>\n      <td>50.0</td>\n    </tr>\n    <tr>\n      <th>3</th>\n      <td>Frey</td>\n      <td>Membuat Halaman Usermanagement</td>\n      <td>2</td>\n      <td>2021-03-15</td>\n      <td>2021-03-23</td>\n      <td>2021-03-21</td>\n      <td>implementasi api</td>\n      <td>Break</td>\n      <td>format yang berbeda dengan yang database</td>\n      <td>NaN</td>\n      <td>0.0</td>\n    </tr>\n    <tr>\n      <th>4</th>\n      <td>Frey</td>\n      <td>Membuat Halaman Usermanagement</td>\n      <td>2</td>\n      <td>2021-03-15</td>\n      <td>2021-03-23</td>\n      <td>2021-03-23</td>\n      <td>implementasi api</td>\n      <td>Done</td>\n      <td>format yang berbeda dengan yang database</td>\n      <td>NaN</td>\n      <td>100.0</td>\n    </tr>\n  </tbody>\n</table>\n</div>"
     },
     "metadata": {},
     "execution_count": 47
    }
   ],
   "source": [
    "df_frey"
   ]
  },
  {
   "cell_type": "code",
   "execution_count": 66,
   "metadata": {},
   "outputs": [
    {
     "output_type": "execute_result",
     "data": {
      "text/plain": [
       "   name                        planning  completion status_completion  \\\n",
       "0  Frey  Membuat Halaman Usermanagement       100.0           On Time   \n",
       "\n",
       "  report_date  \n",
       "0  2021-03-23  "
      ],
      "text/html": "<div>\n<style scoped>\n    .dataframe tbody tr th:only-of-type {\n        vertical-align: middle;\n    }\n\n    .dataframe tbody tr th {\n        vertical-align: top;\n    }\n\n    .dataframe thead th {\n        text-align: right;\n    }\n</style>\n<table border=\"1\" class=\"dataframe\">\n  <thead>\n    <tr style=\"text-align: right;\">\n      <th></th>\n      <th>name</th>\n      <th>planning</th>\n      <th>completion</th>\n      <th>status_completion</th>\n      <th>report_date</th>\n    </tr>\n  </thead>\n  <tbody>\n    <tr>\n      <th>0</th>\n      <td>Frey</td>\n      <td>Membuat Halaman Usermanagement</td>\n      <td>100.0</td>\n      <td>On Time</td>\n      <td>2021-03-23</td>\n    </tr>\n  </tbody>\n</table>\n</div>"
     },
     "metadata": {},
     "execution_count": 66
    }
   ],
   "source": [
    "planning_summary(df_frey)"
   ]
  },
  {
   "source": [
    "Terdapat 2 completion:\n",
    "\n",
    "1. Project\n",
    "2. Planning\n",
    "\n",
    "apa yang ada di gantt project itu adalah planning. Nah dashboard ini adalah digunakna untuk menghitung completion per planning dimana masing-masing planning tentu memiliki turunan task lainnya. \n",
    "\n",
    "- completion 100 apabila sudah done apabila belum maka dianggap masih 0\n",
    "- \n"
   ],
   "cell_type": "markdown",
   "metadata": {}
  },
  {
   "cell_type": "code",
   "execution_count": 28,
   "metadata": {},
   "outputs": [],
   "source": [
    "df_frey[\"datetime_report\"] = pd.to_datetime(df_frey[\"datetime_report\"])"
   ]
  },
  {
   "cell_type": "code",
   "execution_count": 30,
   "metadata": {},
   "outputs": [
    {
     "output_type": "execute_result",
     "data": {
      "text/plain": [
       "   nama                        planning  task_score start_date   end_date  \\\n",
       "0  Frey  Membuat Halaman Usermanagement           2 2021-03-15 2021-03-23   \n",
       "1  Frey  Membuat Halaman Usermanagement           2 2021-03-15 2021-03-23   \n",
       "2  Frey  Membuat Halaman Usermanagement           2 2021-03-15 2021-03-23   \n",
       "3  Frey  Membuat Halaman Usermanagement           2 2021-03-15 2021-03-23   \n",
       "4  Frey  Membuat Halaman Usermanagement           2 2021-03-15 2021-03-23   \n",
       "\n",
       "  datetime_report              task       status  \\\n",
       "0      2021-03-15           slicing         Done   \n",
       "1      2021-03-17  implementasi api  On Progress   \n",
       "2      2021-03-19  implementasi api  On Progress   \n",
       "3      2021-03-21  implementasi api        Break   \n",
       "4      2021-03-23  implementasi api         Done   \n",
       "\n",
       "                                    kendala  keterangan  Completion  \n",
       "0  format yang berbeda dengan yang database         NaN       100.0  \n",
       "1  format yang berbeda dengan yang database         NaN        50.0  \n",
       "2  format yang berbeda dengan yang database         NaN        50.0  \n",
       "3  format yang berbeda dengan yang database         NaN         0.0  \n",
       "4  format yang berbeda dengan yang database         NaN       100.0  "
      ],
      "text/html": "<div>\n<style scoped>\n    .dataframe tbody tr th:only-of-type {\n        vertical-align: middle;\n    }\n\n    .dataframe tbody tr th {\n        vertical-align: top;\n    }\n\n    .dataframe thead th {\n        text-align: right;\n    }\n</style>\n<table border=\"1\" class=\"dataframe\">\n  <thead>\n    <tr style=\"text-align: right;\">\n      <th></th>\n      <th>nama</th>\n      <th>planning</th>\n      <th>task_score</th>\n      <th>start_date</th>\n      <th>end_date</th>\n      <th>datetime_report</th>\n      <th>task</th>\n      <th>status</th>\n      <th>kendala</th>\n      <th>keterangan</th>\n      <th>Completion</th>\n    </tr>\n  </thead>\n  <tbody>\n    <tr>\n      <th>0</th>\n      <td>Frey</td>\n      <td>Membuat Halaman Usermanagement</td>\n      <td>2</td>\n      <td>2021-03-15</td>\n      <td>2021-03-23</td>\n      <td>2021-03-15</td>\n      <td>slicing</td>\n      <td>Done</td>\n      <td>format yang berbeda dengan yang database</td>\n      <td>NaN</td>\n      <td>100.0</td>\n    </tr>\n    <tr>\n      <th>1</th>\n      <td>Frey</td>\n      <td>Membuat Halaman Usermanagement</td>\n      <td>2</td>\n      <td>2021-03-15</td>\n      <td>2021-03-23</td>\n      <td>2021-03-17</td>\n      <td>implementasi api</td>\n      <td>On Progress</td>\n      <td>format yang berbeda dengan yang database</td>\n      <td>NaN</td>\n      <td>50.0</td>\n    </tr>\n    <tr>\n      <th>2</th>\n      <td>Frey</td>\n      <td>Membuat Halaman Usermanagement</td>\n      <td>2</td>\n      <td>2021-03-15</td>\n      <td>2021-03-23</td>\n      <td>2021-03-19</td>\n      <td>implementasi api</td>\n      <td>On Progress</td>\n      <td>format yang berbeda dengan yang database</td>\n      <td>NaN</td>\n      <td>50.0</td>\n    </tr>\n    <tr>\n      <th>3</th>\n      <td>Frey</td>\n      <td>Membuat Halaman Usermanagement</td>\n      <td>2</td>\n      <td>2021-03-15</td>\n      <td>2021-03-23</td>\n      <td>2021-03-21</td>\n      <td>implementasi api</td>\n      <td>Break</td>\n      <td>format yang berbeda dengan yang database</td>\n      <td>NaN</td>\n      <td>0.0</td>\n    </tr>\n    <tr>\n      <th>4</th>\n      <td>Frey</td>\n      <td>Membuat Halaman Usermanagement</td>\n      <td>2</td>\n      <td>2021-03-15</td>\n      <td>2021-03-23</td>\n      <td>2021-03-23</td>\n      <td>implementasi api</td>\n      <td>Done</td>\n      <td>format yang berbeda dengan yang database</td>\n      <td>NaN</td>\n      <td>100.0</td>\n    </tr>\n  </tbody>\n</table>\n</div>"
     },
     "metadata": {},
     "execution_count": 30
    }
   ],
   "source": [
    "df_frey[\"start_date\"] = pd.to_datetime(df_frey[\"start_date\"])\n",
    "df_frey[\"end_date\"] = pd.to_datetime(df_frey[\"end_date\"])\n",
    "\n",
    "df_frey"
   ]
  },
  {
   "cell_type": "code",
   "execution_count": 34,
   "metadata": {},
   "outputs": [],
   "source": [
    "k=df_frey[\"end_date\"].iloc[-1] - df_frey[\"start_date\"].iloc[-1]"
   ]
  },
  {
   "cell_type": "code",
   "execution_count": 35,
   "metadata": {},
   "outputs": [
    {
     "output_type": "execute_result",
     "data": {
      "text/plain": [
       "8"
      ]
     },
     "metadata": {},
     "execution_count": 35
    }
   ],
   "source": [
    "k.days"
   ]
  },
  {
   "cell_type": "code",
   "execution_count": 36,
   "metadata": {},
   "outputs": [],
   "source": [
    "t1 = pd.to_datetime('1/1/2015 01:00')\n",
    "t2 = pd.to_datetime('1/1/2015 03:30')"
   ]
  },
  {
   "cell_type": "code",
   "execution_count": 39,
   "metadata": {},
   "outputs": [
    {
     "output_type": "execute_result",
     "data": {
      "text/plain": [
       "-1"
      ]
     },
     "metadata": {},
     "execution_count": 39
    }
   ],
   "source": [
    "(t1-t2).days"
   ]
  },
  {
   "cell_type": "code",
   "execution_count": 67,
   "metadata": {},
   "outputs": [],
   "source": [
    "df = pd.read_csv(\"progress01.csv\")"
   ]
  },
  {
   "cell_type": "code",
   "execution_count": 69,
   "metadata": {},
   "outputs": [],
   "source": [
    "df[\"datetime_report\"] = pd.to_datetime(df[\"datetime_report\"])\n",
    "df[\"start_date\"] = pd.to_datetime(df[\"start_date\"])\n",
    "df[\"end_date\"] = pd.to_datetime(df[\"end_date\"])\n",
    "df[\"datetime_report\"] = pd.to_datetime(df[\"end_date\"])"
   ]
  },
  {
   "cell_type": "code",
   "execution_count": 70,
   "metadata": {},
   "outputs": [],
   "source": [
    "df.to_csv(\"progress01.csv\", index=False)"
   ]
  },
  {
   "cell_type": "code",
   "execution_count": null,
   "metadata": {},
   "outputs": [],
   "source": []
  }
 ]
}